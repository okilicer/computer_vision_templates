{
 "cells": [
  {
   "cell_type": "code",
   "execution_count": 8,
   "metadata": {
    "id": "d8zK8PZ4QNLD"
   },
   "outputs": [
    {
     "name": "stderr",
     "output_type": "stream",
     "text": [
      "'export' is not recognized as an internal or external command,\n",
      "operable program or batch file.\n"
     ]
    }
   ],
   "source": [
    "from tensorflow.keras.datasets import cifar10\n",
    "from tensorflow.keras.utils import to_categorical\n",
    "from tensorflow.keras.models import Sequential\n",
    "from tensorflow.keras.layers import Dense, Conv2D, MaxPool2D, Flatten, Dropout, BatchNormalization\n",
    "from tensorflow.keras.callbacks import EarlyStopping\n",
    "from tensorflow.keras.preprocessing.image import ImageDataGenerator\n",
    "import tensorflow as tf"
   ]
  },
  {
   "cell_type": "code",
   "execution_count": 2,
   "metadata": {
    "colab": {
     "base_uri": "https://localhost:8080/"
    },
    "id": "hh8pUyqEQYin",
    "outputId": "0a0512c8-705c-4d16-9aae-92cc74084812"
   },
   "outputs": [],
   "source": [
    "(X_train, y_train), (X_test, y_test) = cifar10.load_data() #Separation for train and validation cases"
   ]
  },
  {
   "cell_type": "code",
   "execution_count": 3,
   "metadata": {
    "id": "VQiBCv6mQa49"
   },
   "outputs": [],
   "source": [
    "X_train = X_train * (1.0/256) #Scaling the features\n",
    "X_test = X_test * (1.0/256)"
   ]
  },
  {
   "cell_type": "code",
   "execution_count": 4,
   "metadata": {
    "id": "vOhFIF8hQbUE"
   },
   "outputs": [],
   "source": [
    "y_train = to_categorical(y_train, 10) #Converting into categorical variables\n",
    "y_test = to_categorical(y_test, 10)"
   ]
  },
  {
   "cell_type": "code",
   "execution_count": 5,
   "metadata": {
    "id": "VwrcmQ28QdbW"
   },
   "outputs": [
    {
     "name": "stdout",
     "output_type": "stream",
     "text": [
      "WARNING:tensorflow:From C:\\Users\\orsan\\anaconda3\\Lib\\site-packages\\keras\\src\\backend.py:873: The name tf.get_default_graph is deprecated. Please use tf.compat.v1.get_default_graph instead.\n",
      "\n",
      "WARNING:tensorflow:From C:\\Users\\orsan\\anaconda3\\Lib\\site-packages\\keras\\src\\layers\\normalization\\batch_normalization.py:979: The name tf.nn.fused_batch_norm is deprecated. Please use tf.compat.v1.nn.fused_batch_norm instead.\n",
      "\n"
     ]
    }
   ],
   "source": [
    "INPUT_SHAPE = (32, 32, 3)\n",
    "KERNEL_SIZE = (3, 3)\n",
    "model = Sequential()\n",
    "\n",
    "# Convolutional Layer\n",
    "model.add(Conv2D(filters=16, kernel_size=KERNEL_SIZE, input_shape=INPUT_SHAPE, activation='relu', padding='same'))\n",
    "model.add(BatchNormalization())\n",
    "model.add(Conv2D(filters=16, kernel_size=KERNEL_SIZE, input_shape=INPUT_SHAPE, activation='relu', padding='same'))\n",
    "model.add(BatchNormalization())\n",
    "#model.add(Conv2D(filters=32, kernel_size=KERNEL_SIZE, input_shape=INPUT_SHAPE, activation='relu', padding='same'))\n",
    "#model.add(BatchNormalization())\n",
    "#model.add(Conv2D(filters=32, kernel_size=KERNEL_SIZE, input_shape=INPUT_SHAPE, activation='relu', padding='same'))\n",
    "#model.add(BatchNormalization())\n",
    "# Pooling layer\n",
    "model.add(MaxPool2D(pool_size=(2, 2)))\n",
    "# Dropout layers\n",
    "model.add(Dropout(0.5))\n",
    "\n",
    "\n",
    "model.add(Flatten())\n",
    "# model.add(Dropout(0.2))\n",
    "model.add(Dense(32, activation='sigmoid'))\n",
    "#model.add(Dropout(0.25))\n",
    "model.add(Dense(10, activation='softmax'))\n",
    "\n",
    "METRICS = [\n",
    "    'accuracy',\n",
    "    tf.keras.metrics.Precision(name='precision'),\n",
    "    tf.keras.metrics.Recall(name='recall')\n",
    "]\n",
    "model.compile(loss='categorical_crossentropy', optimizer=tf.keras.optimizers.Adam(learning_rate=1e-3), metrics=METRICS)"
   ]
  },
  {
   "cell_type": "code",
   "execution_count": 6,
   "metadata": {
    "id": "OKT__gPlQf3F"
   },
   "outputs": [],
   "source": [
    "early_stop = EarlyStopping(monitor='val_loss', patience=5)"
   ]
  },
  {
   "cell_type": "code",
   "execution_count": 7,
   "metadata": {
    "colab": {
     "base_uri": "https://localhost:8080/"
    },
    "id": "rqCfoYKUQrn1",
    "outputId": "1a6a6de3-ff99-4ec1-9bf1-b1afafd3f6f6"
   },
   "outputs": [
    {
     "name": "stdout",
     "output_type": "stream",
     "text": [
      "Epoch 1/10\n",
      "WARNING:tensorflow:From C:\\Users\\orsan\\anaconda3\\Lib\\site-packages\\keras\\src\\utils\\tf_utils.py:492: The name tf.ragged.RaggedTensorValue is deprecated. Please use tf.compat.v1.ragged.RaggedTensorValue instead.\n",
      "\n",
      "WARNING:tensorflow:From C:\\Users\\orsan\\anaconda3\\Lib\\site-packages\\keras\\src\\engine\\base_layer_utils.py:384: The name tf.executing_eagerly_outside_functions is deprecated. Please use tf.compat.v1.executing_eagerly_outside_functions instead.\n",
      "\n",
      "1562/1562 [==============================] - 23s 13ms/step - loss: 1.4770 - accuracy: 0.4782 - precision: 0.7387 - recall: 0.1994 - val_loss: 1.3786 - val_accuracy: 0.5110 - val_precision: 0.6734 - val_recall: 0.3297\n",
      "Epoch 2/10\n",
      "1562/1562 [==============================] - 18s 12ms/step - loss: 1.2281 - accuracy: 0.5683 - precision: 0.7367 - recall: 0.3822 - val_loss: 1.1880 - val_accuracy: 0.5725 - val_precision: 0.7296 - val_recall: 0.4171\n",
      "Epoch 3/10\n",
      "1562/1562 [==============================] - 18s 12ms/step - loss: 1.1375 - accuracy: 0.6014 - precision: 0.7478 - recall: 0.4494 - val_loss: 1.2132 - val_accuracy: 0.5732 - val_precision: 0.6940 - val_recall: 0.4382\n",
      "Epoch 4/10\n",
      "1562/1562 [==============================] - 18s 12ms/step - loss: 1.0929 - accuracy: 0.6169 - precision: 0.7473 - recall: 0.4809 - val_loss: 1.2326 - val_accuracy: 0.5717 - val_precision: 0.6842 - val_recall: 0.4665\n",
      "Epoch 5/10\n",
      "1562/1562 [==============================] - 18s 12ms/step - loss: 1.0582 - accuracy: 0.6300 - precision: 0.7515 - recall: 0.5020 - val_loss: 1.2072 - val_accuracy: 0.5791 - val_precision: 0.7226 - val_recall: 0.4395\n",
      "Epoch 6/10\n",
      "1562/1562 [==============================] - 19s 12ms/step - loss: 1.0435 - accuracy: 0.6334 - precision: 0.7514 - recall: 0.5115 - val_loss: 1.0512 - val_accuracy: 0.6331 - val_precision: 0.7458 - val_recall: 0.5208\n",
      "Epoch 7/10\n",
      "1562/1562 [==============================] - 19s 12ms/step - loss: 1.0245 - accuracy: 0.6394 - precision: 0.7554 - recall: 0.5214 - val_loss: 1.1350 - val_accuracy: 0.6038 - val_precision: 0.7078 - val_recall: 0.4958\n",
      "Epoch 8/10\n",
      "1562/1562 [==============================] - 18s 12ms/step - loss: 1.0064 - accuracy: 0.6477 - precision: 0.7628 - recall: 0.5306 - val_loss: 1.1197 - val_accuracy: 0.6077 - val_precision: 0.7052 - val_recall: 0.5067\n",
      "Epoch 9/10\n",
      "1562/1562 [==============================] - 18s 11ms/step - loss: 0.9980 - accuracy: 0.6485 - precision: 0.7585 - recall: 0.5390 - val_loss: 1.0908 - val_accuracy: 0.6194 - val_precision: 0.7140 - val_recall: 0.5251\n",
      "Epoch 10/10\n",
      "1562/1562 [==============================] - 19s 12ms/step - loss: 0.9818 - accuracy: 0.6556 - precision: 0.7653 - recall: 0.5447 - val_loss: 1.0465 - val_accuracy: 0.6335 - val_precision: 0.7428 - val_recall: 0.5388\n"
     ]
    }
   ],
   "source": [
    "batch_size = 32\n",
    "\n",
    "data_generator = ImageDataGenerator()\n",
    "train_generator = data_generator.flow(X_train, y_train, batch_size)\n",
    "steps_per_epoch = X_train.shape[0] // batch_size\n",
    "\n",
    "#Fitting the model\n",
    "fitted_model = model.fit(train_generator, epochs=10,\n",
    "              steps_per_epoch=steps_per_epoch,\n",
    "              validation_data=(X_test, y_test),\n",
    "               callbacks=[early_stop],\n",
    "               batch_size=batch_size,\n",
    "             )"
   ]
  },
  {
   "cell_type": "code",
   "execution_count": null,
   "metadata": {
    "id": "si8OI5WVQvo9"
   },
   "outputs": [],
   "source": []
  }
 ],
 "metadata": {
  "colab": {
   "provenance": []
  },
  "kernelspec": {
   "display_name": "Python 3 (ipykernel)",
   "language": "python",
   "name": "python3"
  },
  "language_info": {
   "codemirror_mode": {
    "name": "ipython",
    "version": 3
   },
   "file_extension": ".py",
   "mimetype": "text/x-python",
   "name": "python",
   "nbconvert_exporter": "python",
   "pygments_lexer": "ipython3",
   "version": "3.11.5"
  }
 },
 "nbformat": 4,
 "nbformat_minor": 1
}
